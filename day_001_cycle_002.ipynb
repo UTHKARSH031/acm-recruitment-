{
  "nbformat": 4,
  "nbformat_minor": 0,
  "metadata": {
    "colab": {
      "provenance": []
    },
    "kernelspec": {
      "name": "python3",
      "display_name": "Python 3"
    },
    "language_info": {
      "name": "python"
    }
  },
  "cells": [
    {
      "cell_type": "code",
      "source": [
        "import pandas as pd\n",
        "from sklearn.model_selection import train_test_split\n",
        "from sklearn.ensemble import RandomForestClassifier, AdaBoostClassifier\n",
        "from xgboost import XGBClassifier\n",
        "from sklearn.metrics import accuracy_score, confusion_matrix, classification_report\n",
        "\n",
        "# Loading  data\n",
        "data = pd.read_csv('/content/breast-cancer.csv')\n",
        "data['diagnosis'] = data['diagnosis'].map({'M': 'harmful', 'B': 'not harmful'})\n",
        "X = data.drop(['id', 'diagnosis'], axis=1)\n",
        "y = data['diagnosis']\n",
        "\n",
        "# Spliting d data\n",
        "X_train, X_test, y_train, y_test = train_test_split(X, y, test_size=0.2, random_state=42)\n",
        "\n",
        "# Initialize models with specific n_estimators\n",
        "rf_model = RandomForestClassifier(n_estimators=100, random_state=42)\n",
        "ada_model = AdaBoostClassifier(n_estimators=100, random_state=42)\n",
        "xgb_model = XGBClassifier(n_estimators=100, random_state=42)\n",
        "\n",
        "# Train models\n",
        "rf_model.fit(X_train, y_train.map({'not harmful': 0, 'harmful': 1}))\n",
        "ada_model.fit(X_train, y_train.map({'not harmful': 0, 'harmful': 1}))\n",
        "xgb_model.fit(X_train, y_train.map({'not harmful': 0, 'harmful': 1}))\n",
        "\n",
        "# Predict and evaluate accuracy\n",
        "rf_pred = rf_model.predict(X_test)\n",
        "ada_pred = ada_model.predict(X_test)\n",
        "xgb_pred = xgb_model.predict(X_test)\n",
        "\n",
        "rf_acc = accuracy_score(y_test.map({'not harmful': 0, 'harmful': 1}), rf_pred)\n",
        "ada_acc = accuracy_score(y_test.map({'not harmful': 0, 'harmful': 1}), ada_pred)\n",
        "xgb_acc = accuracy_score(y_test.map({'not harmful': 0, 'harmful': 1}), xgb_pred)\n",
        "\n",
        "print(\"Model Details and Accuracy Scores:\")\n",
        "print(f\"Random Forest (n_estimators=100): {rf_acc:.2f}\")\n",
        "print(f\"AdaBoost (n_estimators=100): {ada_acc:.2f}\")\n",
        "print(f\"XGBoost (n_estimators=100): {xgb_acc:.2f}\")\n",
        "\n",
        "# Basic error analysis\n",
        "print(\"\\nConfusion Matrices:\")\n",
        "print(\"Random Forest:\\n\", confusion_matrix(y_test.map({'not harmful': 0, 'harmful': 1}), rf_pred))\n",
        "print(\"AdaBoost:\\n\", confusion_matrix(y_test.map({'not harmful': 0, 'harmful': 1}), ada_pred))\n",
        "print(\"XGBoost:\\n\", confusion_matrix(y_test.map({'not harmful': 0, 'harmful': 1}), xgb_pred))\n",
        "\n",
        "print(\"\\nClassification Reports:\")\n",
        "print(\"Random Forest:\\n\", classification_report(y_test.map({'not harmful': 0, 'harmful': 1}), rf_pred, target_names=['not harmful', 'harmful']))\n",
        "print(\"AdaBoost:\\n\", classification_report(y_test.map({'not harmful': 0, 'harmful': 1}), ada_pred, target_names=['not harmful', 'harmful']))\n",
        "print(\"XGBoost:\\n\", classification_report(y_test.map({'not harmful': 0, 'harmful': 1}), xgb_pred, target_names=['not harmful', 'harmful']))"
      ],
      "metadata": {
        "colab": {
          "base_uri": "https://localhost:8080/"
        },
        "id": "E-gcB9hdc945",
        "outputId": "939f7488-ccfa-4ce0-d712-6f2d243496fd"
      },
      "execution_count": null,
      "outputs": [
        {
          "output_type": "stream",
          "name": "stdout",
          "text": [
            "Model Details and Accuracy Scores:\n",
            "Random Forest (n_estimators=100): 0.96\n",
            "AdaBoost (n_estimators=100): 0.97\n",
            "XGBoost (n_estimators=100): 0.96\n",
            "\n",
            "Confusion Matrices:\n",
            "Random Forest:\n",
            " [[70  1]\n",
            " [ 3 40]]\n",
            "AdaBoost:\n",
            " [[70  1]\n",
            " [ 2 41]]\n",
            "XGBoost:\n",
            " [[69  2]\n",
            " [ 3 40]]\n",
            "\n",
            "Classification Reports:\n",
            "Random Forest:\n",
            "               precision    recall  f1-score   support\n",
            "\n",
            " not harmful       0.96      0.99      0.97        71\n",
            "     harmful       0.98      0.93      0.95        43\n",
            "\n",
            "    accuracy                           0.96       114\n",
            "   macro avg       0.97      0.96      0.96       114\n",
            "weighted avg       0.97      0.96      0.96       114\n",
            "\n",
            "AdaBoost:\n",
            "               precision    recall  f1-score   support\n",
            "\n",
            " not harmful       0.97      0.99      0.98        71\n",
            "     harmful       0.98      0.95      0.96        43\n",
            "\n",
            "    accuracy                           0.97       114\n",
            "   macro avg       0.97      0.97      0.97       114\n",
            "weighted avg       0.97      0.97      0.97       114\n",
            "\n",
            "XGBoost:\n",
            "               precision    recall  f1-score   support\n",
            "\n",
            " not harmful       0.96      0.97      0.97        71\n",
            "     harmful       0.95      0.93      0.94        43\n",
            "\n",
            "    accuracy                           0.96       114\n",
            "   macro avg       0.96      0.95      0.95       114\n",
            "weighted avg       0.96      0.96      0.96       114\n",
            "\n"
          ]
        }
      ]
    }
  ]
}