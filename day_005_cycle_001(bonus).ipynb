{
  "nbformat": 4,
  "nbformat_minor": 0,
  "metadata": {
    "colab": {
      "provenance": []
    },
    "kernelspec": {
      "name": "python3",
      "display_name": "Python 3"
    },
    "language_info": {
      "name": "python"
    }
  },
  "cells": [
    {
      "cell_type": "code",
      "source": [
        "import pandas as pd\n",
        "import numpy as np\n",
        "from sklearn.model_selection import train_test_split, cross_val_score\n",
        "from sklearn.ensemble import RandomForestClassifier\n",
        "from sklearn.linear_model import LogisticRegression\n",
        "from sklearn.metrics import accuracy_score\n",
        "from sklearn.preprocessing import OneHotEncoder, StandardScaler\n",
        "from sklearn.compose import ColumnTransformer\n",
        "from sklearn.pipeline import Pipeline\n",
        "# 1-Load and preprocess data\n",
        "df = pd.read_csv(\"/content/mental_health_workplace_survey.csv\")\n",
        "all_features = ['WorkHoursPerWeek', 'JobSatisfaction', 'SleepHours', 'Age', 'YearsAtCompany',\n",
        "                'SalaryRange', 'TeamSize', 'StressLevel', 'ProductivityScore', 'BurnoutLevel',\n",
        "                'PhysicalActivityHrs', 'CommuteTime', 'HasMentalHealthSupport', 'ManagerSupportScore',\n",
        "                'HasTherapyAccess', 'MentalHealthDaysOff', 'WorkLifeBalanceScore', 'CareerGrowthScore',\n",
        "                'Gender', 'Country', 'JobRole', 'Department', 'RemoteWork']\n",
        "X = df[all_features]\n",
        "y = df['BurnoutRisk']\n",
        "\n",
        "# Define categorical and numerical columns\n",
        "cat_cols = X.select_dtypes(exclude=[np.number]).columns.tolist()\n",
        "num_cols = X.select_dtypes(include=[np.number]).columns.tolist()\n",
        "\n",
        "# Create preprocessor for all features\n",
        "preprocessor = ColumnTransformer(\n",
        "    transformers=[\n",
        "        ('cat', OneHotEncoder(handle_unknown='ignore', drop='first'), cat_cols),\n",
        "        ('num', StandardScaler(), num_cols)\n",
        "    ])\n",
        "# 2-Selecting top 3 features using Random Forest\n",
        "rf_pipeline = Pipeline([\n",
        "    ('preprocessor', preprocessor),\n",
        "    ('rf', RandomForestClassifier(random_state=46))\n",
        "])\n",
        "rf_pipeline.fit(X, y)\n",
        "\n",
        "# Get feature importances\n",
        "ohe_feature_names = rf_pipeline.named_steps['preprocessor'].named_transformers_['cat'].get_feature_names_out(cat_cols)\n",
        "all_feature_names = list(ohe_feature_names) + num_cols\n",
        "importances = pd.Series(rf_pipeline.named_steps['rf'].feature_importances_, index=all_feature_names)\n",
        "top3_features = importances.nlargest(3).index.tolist()\n",
        "\n",
        "# Map back to original features\n",
        "original_top3 = []\n",
        "for feature in top3_features:\n",
        "    if feature in num_cols and feature not in original_top3:\n",
        "        original_top3.append(feature)\n",
        "    else:\n",
        "        for col in cat_cols:\n",
        "            if feature.startswith(f\"{col}_\") and col not in original_top3:\n",
        "                original_top3.append(col)\n",
        "                break\n",
        "\n",
        "print(\"Top 3 Selected Features (after preprocessing):\", top3_features)\n",
        "print(\"Corresponding Original Top 3 Features:\", original_top3)\n",
        "\n",
        "# 3-Train minimal Logistic Regression model on top 3 features\n",
        "X_top3 = df[original_top3]\n",
        "\n",
        "# Create preprocessor for top 3 features\n",
        "top3_cat_cols = X_top3.select_dtypes(exclude=[np.number]).columns.tolist()\n",
        "top3_num_cols = X_top3.select_dtypes(include=[np.number]).columns.tolist()\n",
        "top3_preprocessor = ColumnTransformer(\n",
        "    transformers=[\n",
        "        ('cat', OneHotEncoder(handle_unknown='ignore', drop='first'), top3_cat_cols),\n",
        "        ('num', StandardScaler(), top3_num_cols)\n",
        "    ])\n",
        "\n",
        "# Split data\n",
        "X_train, X_test, y_train, y_test = train_test_split(X_top3, y, test_size=0.3, random_state=46, stratify=y)\n",
        "\n",
        "# Create and train Logistic Regression pipeline\n",
        "log_reg_pipeline = Pipeline([\n",
        "    ('preprocessor', top3_preprocessor),\n",
        "    ('classifier', LogisticRegression(max_iter=1500, random_state=46))\n",
        "])\n",
        "log_reg_pipeline.fit(X_train, y_train)\n",
        "\n",
        "# Evaluate model\n",
        "y_pred = log_reg_pipeline.predict(X_test)\n",
        "accuracy = accuracy_score(y_test, y_pred)\n",
        "\n",
        "# Cross-validation\n",
        "X_top3_processed = top3_preprocessor.fit_transform(X_top3)\n",
        "cv_scores = cross_val_score(LogisticRegression(max_iter=1500, random_state=46), X_top3_processed, y, cv=5, scoring='accuracy')\n",
        "\n",
        "# 4-results\n",
        "print(\" Minimal Burnout Model\")\n",
        "print(\" Original Features:\", original_top3)\n",
        "print(f\"Accuracy on Test Set: {accuracy * 100:.3f}%\")\n",
        "print(f\"Cross-Validation Accuracy: {cv_scores.mean() * 100:.2f}% (+/- {cv_scores.std() * 100:.2f}%)\")\n",
        "print(\"The top 3 features are the best  predictors of burnout risk, enabling a simple, interpretable model.\")"
      ],
      "metadata": {
        "colab": {
          "base_uri": "https://localhost:8080/"
        },
        "id": "1gB3cKIOHbPj",
        "outputId": "4b8b48ba-809a-4c4d-b72f-0ce0272b8ff8"
      },
      "execution_count": 3,
      "outputs": [
        {
          "output_type": "stream",
          "name": "stdout",
          "text": [
            "Top 3 Selected Features (after preprocessing): ['BurnoutLevel', 'ProductivityScore', 'StressLevel']\n",
            "Corresponding Original Top 3 Features: ['BurnoutLevel', 'ProductivityScore', 'StressLevel']\n",
            " Minimal Burnout Model\n",
            " Original Features: ['BurnoutLevel', 'ProductivityScore', 'StressLevel']\n",
            "Accuracy on Test Set: 99.889%\n",
            "Cross-Validation Accuracy: 99.80% (+/- 0.19%)\n",
            "The top 3 features are the best  predictors of burnout risk, enabling a simple, interpretable model.\n"
          ]
        }
      ]
    }
  ]
}